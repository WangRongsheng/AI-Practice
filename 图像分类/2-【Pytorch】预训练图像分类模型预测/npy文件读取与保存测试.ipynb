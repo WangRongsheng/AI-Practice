{
 "cells": [
  {
   "cell_type": "markdown",
   "id": "30b8fbf9",
   "metadata": {},
   "source": [
    "## 读取npy存储的内容"
   ]
  },
  {
   "cell_type": "code",
   "execution_count": 5,
   "id": "82783ec6",
   "metadata": {},
   "outputs": [
    {
     "name": "stdout",
     "output_type": "stream",
     "text": [
      "{0: '丝瓜', 1: '人参果', 2: '佛手瓜', 3: '冬瓜', 4: '南瓜', 5: '哈密瓜', 6: '木瓜', 7: '甜瓜-伊丽莎白', 8: '甜瓜-白', 9: '甜瓜-绿', 10: '甜瓜-金', 11: '白兰瓜', 12: '羊角蜜', 13: '苦瓜', 14: '西瓜', 15: '西葫芦', 16: '黄瓜'}\n"
     ]
    }
   ],
   "source": [
    "#导入所需的包\n",
    "import numpy as np  \n",
    "\n",
    "#导入npy文件路径位置\n",
    "test = np.load('idx_to_labels.npy', allow_pickle=True)\n",
    "print(test)"
   ]
  },
  {
   "cell_type": "code",
   "execution_count": 6,
   "id": "dae29bd1",
   "metadata": {},
   "outputs": [
    {
     "name": "stdout",
     "output_type": "stream",
     "text": [
      "{0: '丝瓜', 1: '人参果', 2: '佛手瓜', 3: '冬瓜', 4: '南瓜', 5: '哈密瓜', 6: '木瓜', 7: '甜瓜-伊丽莎白', 8: '甜瓜-白', 9: '甜瓜-绿', 10: '甜瓜-金', 11: '白兰瓜', 12: '羊角蜜', 13: '苦瓜', 14: '西瓜', 15: '西葫芦', 16: '黄瓜'}\n"
     ]
    }
   ],
   "source": [
    "test1 = np.load('idx_to_labels.npy', allow_pickle=True).item()\n",
    "print(test1)"
   ]
  },
  {
   "cell_type": "markdown",
   "id": "8438bb84",
   "metadata": {},
   "source": [
    "## 保存数据到npy"
   ]
  },
  {
   "cell_type": "code",
   "execution_count": 3,
   "id": "60c8c1e5",
   "metadata": {},
   "outputs": [],
   "source": [
    "# 保存数据：\n",
    "import numpy as np\n",
    "\n",
    "data_json = {0: '丝瓜', 1: '人参果', 2: '佛手瓜', 3: '冬瓜', 4: '南瓜', 5: '哈密瓜', 6: '木瓜', 7: '甜瓜-伊丽莎白', 8: '甜瓜-白', 9: '甜瓜-绿', 10: '甜瓜-金', 11: '白兰瓜', 12: '羊角蜜', 13: '苦瓜', 14: '西瓜', 15: '西葫芦', 16: '黄瓜'}\n",
    "# 将 ndarray 类型的数据以字典的形式保存在扩展名为 npz 的数据文件中\n",
    "np.save(\"test.npy\", data_json)"
   ]
  },
  {
   "cell_type": "code",
   "execution_count": 4,
   "id": "095d14c7",
   "metadata": {},
   "outputs": [
    {
     "name": "stdout",
     "output_type": "stream",
     "text": [
      "{0: '丝瓜', 1: '人参果', 2: '佛手瓜', 3: '冬瓜', 4: '南瓜', 5: '哈密瓜', 6: '木瓜', 7: '甜瓜-伊丽莎白', 8: '甜瓜-白', 9: '甜瓜-绿', 10: '甜瓜-金', 11: '白兰瓜', 12: '羊角蜜', 13: '苦瓜', 14: '西瓜', 15: '西葫芦', 16: '黄瓜'}\n"
     ]
    }
   ],
   "source": [
    "#导入所需的包\n",
    "import numpy as np  \n",
    "\n",
    "#导入npy文件路径位置\n",
    "t = np.load('test.npy', allow_pickle=True)\n",
    "print(t)"
   ]
  },
  {
   "cell_type": "code",
   "execution_count": null,
   "id": "ceabdedf",
   "metadata": {},
   "outputs": [],
   "source": []
  }
 ],
 "metadata": {
  "kernelspec": {
   "display_name": "Python 3 (ipykernel)",
   "language": "python",
   "name": "python3"
  },
  "language_info": {
   "codemirror_mode": {
    "name": "ipython",
    "version": 3
   },
   "file_extension": ".py",
   "mimetype": "text/x-python",
   "name": "python",
   "nbconvert_exporter": "python",
   "pygments_lexer": "ipython3",
   "version": "3.9.7"
  }
 },
 "nbformat": 4,
 "nbformat_minor": 5
}
